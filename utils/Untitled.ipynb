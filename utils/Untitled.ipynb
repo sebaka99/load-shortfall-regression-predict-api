{
 "cells": [
  {
   "cell_type": "code",
   "execution_count": 1,
   "id": "0a6f5331-ae2e-4e55-b499-8e054c9d2b85",
   "metadata": {},
   "outputs": [],
   "source": [
    "import pandas as pd\n",
    "import pickle\n",
    "from sklearn.ensemble import RandomForestRegressor"
   ]
  },
  {
   "cell_type": "code",
   "execution_count": 10,
   "id": "d4223a89-6d74-4dbe-9fb7-50a2969c4979",
   "metadata": {},
   "outputs": [],
   "source": [
    "df = pd.read_csv('./data/df_train.csv')"
   ]
  },
  {
   "cell_type": "code",
   "execution_count": 11,
   "id": "047e302a-550c-4497-bda3-4a1c02f85f35",
   "metadata": {},
   "outputs": [],
   "source": [
    "df['Valencia_pressure'] = df['Valencia_pressure'].fillna(df['Valencia_pressure'].median())\n",
    "df['Valencia_wind_deg'] = df['Valencia_wind_deg'].str.extract('(\\d+)')\n",
    "df['Seville_pressure'] = df['Seville_pressure'].str.extract('(\\d+)')\n",
    "df['Valencia_wind_deg'] = df['Valencia_wind_deg'].astype(float)\n",
    "df['Seville_pressure'] = df['Seville_pressure'].astype(float)\n",
    "df['time'] = pd.to_datetime(df['time'])"
   ]
  },
  {
   "cell_type": "code",
   "execution_count": 12,
   "id": "018409d1-3e55-4c2b-a394-0ab96401f7a7",
   "metadata": {},
   "outputs": [],
   "source": [
    "y_train = df[['load_shortfall_3h']]\n",
    "X_train = df.drop(['load_shortfall_3h','time'], axis=1)"
   ]
  },
  {
   "cell_type": "code",
   "execution_count": 14,
   "id": "b133fdae-7f2d-4476-be81-b8742d737333",
   "metadata": {},
   "outputs": [
    {
     "data": {
      "text/plain": [
       "RandomForestRegressor()"
      ]
     },
     "execution_count": 14,
     "metadata": {},
     "output_type": "execute_result"
    }
   ],
   "source": [
    "forest = RandomForestRegressor()\n",
    "forest.fit(X_train, y_train.values.ravel())"
   ]
  },
  {
   "cell_type": "code",
   "execution_count": 15,
   "id": "fb01e5d1-700c-4f89-88ea-72d198c16f8f",
   "metadata": {},
   "outputs": [
    {
     "name": "stdout",
     "output_type": "stream",
     "text": [
      "Training completed. Saving model to: ../assets/trained-models/load_shortfall_simple_forest_regression.pkl\n"
     ]
    }
   ],
   "source": [
    "save_path = '../assets/trained-models/load_shortfall_simple_forest_regression.pkl'\n",
    "print (f\"Training completed. Saving model to: {save_path}\")\n",
    "pickle.dump(forest, open(save_path,'wb'))"
   ]
  },
  {
   "cell_type": "code",
   "execution_count": null,
   "id": "7b004a30-f5fe-4714-982d-0a21d2ca1dee",
   "metadata": {},
   "outputs": [],
   "source": []
  }
 ],
 "metadata": {
  "kernelspec": {
   "display_name": "Python 3",
   "language": "python",
   "name": "python3"
  },
  "language_info": {
   "codemirror_mode": {
    "name": "ipython",
    "version": 3
   },
   "file_extension": ".py",
   "mimetype": "text/x-python",
   "name": "python",
   "nbconvert_exporter": "python",
   "pygments_lexer": "ipython3",
   "version": "3.8.8"
  }
 },
 "nbformat": 4,
 "nbformat_minor": 5
}
